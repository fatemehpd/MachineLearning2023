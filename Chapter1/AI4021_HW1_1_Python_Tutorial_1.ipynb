{
  "nbformat": 4,
  "nbformat_minor": 0,
  "metadata": {
    "colab": {
      "provenance": [],
      "include_colab_link": true
    },
    "kernelspec": {
      "name": "python3",
      "display_name": "Python 3"
    },
    "language_info": {
      "name": "python"
    }
  },
  "cells": [
    {
      "cell_type": "markdown",
      "metadata": {
        "id": "view-in-github",
        "colab_type": "text"
      },
      "source": [
        "<a href=\"https://colab.research.google.com/github/fatemehpd/MachineLearning2023/blob/main/Chapter1/AI4021_HW1_1_Python_Tutorial_1.ipynb\" target=\"_parent\"><img src=\"https://colab.research.google.com/assets/colab-badge.svg\" alt=\"Open In Colab\"/></a>"
      ]
    },
    {
      "cell_type": "markdown",
      "source": [
        "# HW1\n",
        "##Fatemeh Pakdaman\n",
        "Student no. 9924753"
      ],
      "metadata": {
        "id": "8QaV5GNpShlk"
      }
    },
    {
      "cell_type": "markdown",
      "source": [
        "**Question 1:** Write a Python program that asks the user for their age. If the age is greater than or equal to 18, print \"You are an adult.\" Otherwise, print \"You are a minor.\""
      ],
      "metadata": {
        "id": "6_vl9BFfOXWG"
      }
    },
    {
      "cell_type": "code",
      "source": [
        "if int(input(\"Enter your age: \"))<18 :\n",
        "  print(\"You are a minor.\")\n",
        "else:\n",
        " print(\"You are an adult.\")\n"
      ],
      "metadata": {
        "colab": {
          "base_uri": "https://localhost:8080/"
        },
        "id": "CAbJIkUPOcQs",
        "outputId": "83c95c98-bd6e-4254-d106-999f385e5334"
      },
      "execution_count": null,
      "outputs": [
        {
          "output_type": "stream",
          "name": "stdout",
          "text": [
            "Enter your age: 21\n",
            "You are an adult.\n"
          ]
        }
      ]
    },
    {
      "cell_type": "markdown",
      "source": [
        "**Question 2:** Write a Python program to print the numbers from 1 to 10 using a for loop."
      ],
      "metadata": {
        "id": "r_W1sWoQOezD"
      }
    },
    {
      "cell_type": "code",
      "source": [
        "for i in range(10):\n",
        "  print(i+1)"
      ],
      "metadata": {
        "id": "__o_-ZodOhbo",
        "colab": {
          "base_uri": "https://localhost:8080/"
        },
        "outputId": "21dc2715-4009-42a0-ba50-3bbc6513ae3a"
      },
      "execution_count": null,
      "outputs": [
        {
          "output_type": "stream",
          "name": "stdout",
          "text": [
            "1\n",
            "2\n",
            "3\n",
            "4\n",
            "5\n",
            "6\n",
            "7\n",
            "8\n",
            "9\n",
            "10\n"
          ]
        }
      ]
    },
    {
      "cell_type": "markdown",
      "source": [
        "**Question 3:** Write a Python program to calculate the sum of all even numbers from 1 to 20 using a while loop."
      ],
      "metadata": {
        "id": "2q7OyBe_Oiud"
      }
    },
    {
      "cell_type": "code",
      "source": [
        "sum = 0\n",
        "i = 0\n",
        "while i < 10:\n",
        "  sum = sum + 2*(i+1)\n",
        "  i += 1\n",
        "print(\"Sum of even numbers from 1 to 20:\",sum)"
      ],
      "metadata": {
        "id": "r3uY0I6GOlB3",
        "colab": {
          "base_uri": "https://localhost:8080/"
        },
        "outputId": "fcd5924c-6bcb-4918-ba38-6dc0429a2c7b"
      },
      "execution_count": null,
      "outputs": [
        {
          "output_type": "stream",
          "name": "stdout",
          "text": [
            "Sum of even numbers from 1 to 20: 110\n"
          ]
        }
      ]
    },
    {
      "cell_type": "markdown",
      "source": [
        "**Question 4:** Define a function called multiply that takes two parameters and returns their product."
      ],
      "metadata": {
        "id": "YZprv77SOowG"
      }
    },
    {
      "cell_type": "code",
      "source": [
        "def multiply(num1, num2):\n",
        "  return num1*num2"
      ],
      "metadata": {
        "id": "6Y0USeerOrUN"
      },
      "execution_count": null,
      "outputs": []
    },
    {
      "cell_type": "markdown",
      "source": [
        "**Question 5:** Create a class called Person with a constructor method that initializes the name and age attributes. Then, create an instance of the Person class and print the person's name and age."
      ],
      "metadata": {
        "id": "0GOwbOCPOtBN"
      }
    },
    {
      "cell_type": "code",
      "source": [
        "class Person:\n",
        "  def __init__(self, name, age):\n",
        "    self.name = name\n",
        "    self.age = age\n",
        "a = Person(\"Afagh\", 22)\n",
        "print(\"Name:\", a.name)\n",
        "print(\"Age:\", a.age)"
      ],
      "metadata": {
        "colab": {
          "base_uri": "https://localhost:8080/"
        },
        "id": "WcAY-oMeOv1v",
        "outputId": "a39e850b-346e-420f-81fc-8730b2ab732a"
      },
      "execution_count": null,
      "outputs": [
        {
          "output_type": "stream",
          "name": "stdout",
          "text": [
            "Name: Afagh\n",
            "Age: 22\n"
          ]
        }
      ]
    },
    {
      "cell_type": "markdown",
      "source": [
        "**Question 6:** Create a subclass called `Student` that inherits from the `Person` class. Add an additional attribute called `student_id` to the `Student` class. Create an instance of the `Student` class and print the student's name, age, and student ID."
      ],
      "metadata": {
        "id": "JMq7nrdROxIF"
      }
    },
    {
      "cell_type": "code",
      "source": [
        "class Student(Person):\n",
        "  def __init__(self, name, age, student_id):\n",
        "    super().__init__(name, age)\n",
        "    self.student_id = student_id\n",
        "b = Student(\"Fatemeh\", 26, 9924753)\n",
        "print(\"Name:\", b.name)\n",
        "print(\"Age:\", b.age)\n",
        "print(\"Student ID:\", b.student_id)\n"
      ],
      "metadata": {
        "colab": {
          "base_uri": "https://localhost:8080/"
        },
        "id": "vpEpTshwO8Xi",
        "outputId": "e49fe9e8-75f9-48bf-f2cf-98a39d14b33f"
      },
      "execution_count": null,
      "outputs": [
        {
          "output_type": "stream",
          "name": "stdout",
          "text": [
            "Name: Fatemeh\n",
            "Age: 26\n",
            "Student ID: 9924753\n"
          ]
        }
      ]
    },
    {
      "cell_type": "markdown",
      "source": [
        "**Question 7:** Write a Python program that prompts the user to enter a number and then prints whether the number is prime or not. Create a function called `is_prime` that takes an integer as an argument and returns True if it's prime, and False otherwise."
      ],
      "metadata": {
        "id": "5TxkMVTOPIRF"
      }
    },
    {
      "cell_type": "code",
      "source": [
        "def is_prime(number):\n",
        "  for i in range(2, int(number/2)+1):\n",
        "    if number % i == 0:\n",
        "      return False\n",
        "  return True\n",
        "\n",
        "number = int(input(\"Enter a number:\"))\n",
        "is_prime(number)\n",
        "\n"
      ],
      "metadata": {
        "colab": {
          "base_uri": "https://localhost:8080/"
        },
        "id": "UELQoZzKPNLm",
        "outputId": "3ab01493-474f-4992-855b-6a27785a2f71"
      },
      "execution_count": null,
      "outputs": [
        {
          "name": "stdout",
          "output_type": "stream",
          "text": [
            "Enter a number:97\n"
          ]
        },
        {
          "output_type": "execute_result",
          "data": {
            "text/plain": [
              "True"
            ]
          },
          "metadata": {},
          "execution_count": 7
        }
      ]
    },
    {
      "cell_type": "markdown",
      "source": [
        "**Question 8:** Write a Python program that calculates the factorial of a given number using a recursive function. Prompt the user for an integer input and print its factorial."
      ],
      "metadata": {
        "id": "HR0mHW5nPP-l"
      }
    },
    {
      "cell_type": "code",
      "source": [
        "def factorial(number):\n",
        "  if number == 0:\n",
        "    return 1\n",
        "  else:\n",
        "    return factorial(number-1)*number\n",
        "number = int(input(\"Enter an integer: \"))\n",
        "print(f\"Factorial of {number} is\", factorial(number))"
      ],
      "metadata": {
        "colab": {
          "base_uri": "https://localhost:8080/"
        },
        "id": "gm5j51vlPS4y",
        "outputId": "bcb609f0-ee5d-4df2-bf14-e7de2e7dc1f6"
      },
      "execution_count": null,
      "outputs": [
        {
          "output_type": "stream",
          "name": "stdout",
          "text": [
            "Enter an integer: 10\n",
            "Factorial of 10 is 3628800\n"
          ]
        }
      ]
    },
    {
      "cell_type": "markdown",
      "source": [
        "**Question 9:** Create a class called `Rectangle` with attributes `width` and `height`. Add a method `calculate_area` that calculates and returns the area of the rectangle. Create an instance of the `Rectangle` class and print its area."
      ],
      "metadata": {
        "id": "KgQI1zFkPcRb"
      }
    },
    {
      "cell_type": "code",
      "source": [
        "class Rectangle:\n",
        "  def __init__(self, width, hight):\n",
        "    self.width = width\n",
        "    self.hight = hight\n",
        "  def calculate_area(self):\n",
        "    return self.width*self.hight\n",
        "rect1 = Rectangle(2,4)\n",
        "print(\"Area of the rectangle:\", rect1.calculate_area())"
      ],
      "metadata": {
        "colab": {
          "base_uri": "https://localhost:8080/"
        },
        "id": "S2yIbrGMPUHN",
        "outputId": "38325098-029d-4de7-aefa-a8e224d5499e"
      },
      "execution_count": 2,
      "outputs": [
        {
          "output_type": "stream",
          "name": "stdout",
          "text": [
            "Area of the rectangle: 8\n"
          ]
        }
      ]
    },
    {
      "cell_type": "markdown",
      "source": [
        "**Question 10:** Create a subclass called `Square` that inherits from the `Rectangle` class. Add a method `calculate_perimeter` to the `Square` class that calculates and returns the perimeter of the square. Create an instance of the `Square` class and print its perimeter."
      ],
      "metadata": {
        "id": "hZJpUWXiPnUy"
      }
    },
    {
      "cell_type": "code",
      "source": [
        "class Square(Rectangle):\n",
        "  def __init__(self, width, hight = None):\n",
        "    if hight == None:\n",
        "      super().__init__(width,width)\n",
        "    elif width == hight:\n",
        "      super().__init__(width,hight)\n",
        "    else:\n",
        "      print(\"\\033[93m\"+\"Warnning! Square width must be equal to its hight. Your input width has been used as the hight\")\n",
        "      super().__init__(width,width)\n",
        "\n",
        "  def calculate_perimeter(self):\n",
        "    return self.width*4\n",
        "\n",
        "sqr1 = Square(2,2)\n",
        "print(\"\\033[0m\"+\"Perimeter of the square:\", sqr1.calculate_perimeter())"
      ],
      "metadata": {
        "colab": {
          "base_uri": "https://localhost:8080/"
        },
        "id": "rrvDKau6Prgv",
        "outputId": "393f7c2e-b459-48d2-b8b6-fb7d69bb7542"
      },
      "execution_count": 25,
      "outputs": [
        {
          "output_type": "stream",
          "name": "stdout",
          "text": [
            "\u001b[0mPerimeter of the square: 8\n"
          ]
        }
      ]
    },
    {
      "cell_type": "markdown",
      "source": [
        "**Question 11:** Create a base class called `Animal` with attributes `name` and `species`. Provide a constructor to initialize these attributes and a method called `speak` that prints a generic message like \"The animal makes a sound.\""
      ],
      "metadata": {
        "id": "bAvC4oKdPySI"
      }
    },
    {
      "cell_type": "code",
      "source": [
        "class Animal:\n",
        "  def __init__(self, name, specise):\n",
        "    self.name = name\n",
        "    self.specise = specise\n",
        "  def speak(self):\n",
        "    print(f\"{self.name} makes a sound.\")\n"
      ],
      "metadata": {
        "id": "ReV5Ul0ZP-n7"
      },
      "execution_count": null,
      "outputs": []
    },
    {
      "cell_type": "markdown",
      "source": [
        "**Question 12:** Create a subclass called `Dog` that inherits from the `Animal` class. Add a constructor to initialize the `name`, `species`, and `breed` attributes specific to dogs. Override the `speak` method in the `Dog` class to print \"Woof!\""
      ],
      "metadata": {
        "id": "B27SF_YbQANC"
      }
    },
    {
      "cell_type": "code",
      "source": [
        "class Dog(Animal):\n",
        "  def __init__(self, name, specise, breed):\n",
        "    super().__init__(name, specise)\n",
        "    self.breed = breed\n",
        "  def speak(self):\n",
        "    print(f\"{self.name} the {self.breed} says Woof!\")\n"
      ],
      "metadata": {
        "id": "3Gn8dy-QQIGA"
      },
      "execution_count": null,
      "outputs": []
    },
    {
      "cell_type": "markdown",
      "source": [
        "**Question 13:** Create another subclass called `Cat` that inherits from the `Animal` class. Add a constructor to initialize the `name`, `species`, and `color` attributes specific to cats. Override the `speak` method in the `Cat` class to print \"Meow!\""
      ],
      "metadata": {
        "id": "evEYwP3GQKHU"
      }
    },
    {
      "cell_type": "code",
      "source": [
        "class Cat(Animal):\n",
        "  def __init__(self, name, specise, color):\n",
        "    super().__init__(name, specise)\n",
        "    self.color = color\n",
        "  def speak(self):\n",
        "    print(f\"{self.name} the {self.color} says Woof!\")"
      ],
      "metadata": {
        "id": "OOuq8AP2QT9W"
      },
      "execution_count": null,
      "outputs": []
    },
    {
      "cell_type": "markdown",
      "source": [
        "**Question 14:** Create instances of both the `Dog` and `Cat` classes and call their `speak` methods to demonstrate polymorphism."
      ],
      "metadata": {
        "id": "FPiIuweTQU0D"
      }
    },
    {
      "cell_type": "code",
      "source": [
        "cat1 = Cat(\"Coco\", \"cat\", \"brown\")\n",
        "dog1 = Dog(\"Ted\", \"dog\", \"Golden Retriever\")\n",
        "cat1.speak()\n",
        "dog1.speak()"
      ],
      "metadata": {
        "colab": {
          "base_uri": "https://localhost:8080/"
        },
        "id": "YmUNsj72QZ4z",
        "outputId": "f39b6360-f8a9-4d79-f0f9-4985773f83a8"
      },
      "execution_count": null,
      "outputs": [
        {
          "output_type": "stream",
          "name": "stdout",
          "text": [
            "Coco the brown says Woof!\n",
            "Ted the Golden Retriever says Woof!\n"
          ]
        }
      ]
    },
    {
      "cell_type": "code",
      "source": [],
      "metadata": {
        "id": "_1pQ_HgTG_Gt"
      },
      "execution_count": null,
      "outputs": []
    }
  ]
}